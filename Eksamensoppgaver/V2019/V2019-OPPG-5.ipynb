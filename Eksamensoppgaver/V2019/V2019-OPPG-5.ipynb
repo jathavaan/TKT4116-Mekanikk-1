{
 "cells": [
  {
   "cell_type": "code",
   "execution_count": 97,
   "outputs": [],
   "source": [
    "# Gjør nødvendige imports\n",
    "import numpy as np"
   ],
   "metadata": {
    "collapsed": false,
    "pycharm": {
     "name": "#%%\n"
    }
   }
  },
  {
   "cell_type": "code",
   "execution_count": 98,
   "outputs": [],
   "source": [
    "L_0 = 5.0  # mm\n",
    "D_0 = 5.0  # mm\n",
    "\n",
    "A_0 = np.pi / 4 * np.power(D_0, 2)  # mm^2"
   ],
   "metadata": {
    "collapsed": false,
    "pycharm": {
     "name": "#%%\n"
    }
   }
  },
  {
   "cell_type": "code",
   "execution_count": 99,
   "outputs": [],
   "source": [
    "# Definerer funksjoner som regner ut lengdetøyning, tverrtøyning og spenningen\n",
    "def sigma_N(N: float, A_0: float):\n",
    "    return np.divide(N, A_0)\n",
    "\n",
    "\n",
    "def epsilon_x(dL: float, L_0: float):\n",
    "    return np.divide(dL, L_0)\n",
    "\n",
    "\n",
    "def epsilon_y(dD: float, D_0: float):\n",
    "    return np.divide(dD, D_0)\n"
   ],
   "metadata": {
    "collapsed": false,
    "pycharm": {
     "name": "#%%\n"
    }
   }
  },
  {
   "cell_type": "code",
   "execution_count": 100,
   "metadata": {
    "collapsed": true,
    "pycharm": {
     "name": "#%%\n"
    }
   },
   "outputs": [],
   "source": [
    "# Leser og konverterer filen til en to-dimensjonal numpy array\n",
    "data = np.genfromtxt('test_data.txt', dtype=float, encoding=None, delimiter=\" \")"
   ]
  },
  {
   "cell_type": "code",
   "execution_count": 101,
   "outputs": [],
   "source": [
    "# Definerer hver kolonne som en egen variabel\n",
    "t_array = data[:, 0]\n",
    "N_array = data[:, 1]\n",
    "dL_array = data[:, 2]\n",
    "dD_array = data[:, 3]"
   ],
   "metadata": {
    "collapsed": false,
    "pycharm": {
     "name": "#%%\n"
    }
   }
  },
  {
   "cell_type": "code",
   "execution_count": 102,
   "outputs": [
    {
     "data": {
      "text/plain": "array([[ 0.        ,  0.        ,  0.        ,  0.        ],\n       [ 0.        ,  0.        ,  0.        ,  0.        ],\n       [ 0.3       ,  0.61624794, -0.002     ,  0.0062    ],\n       [ 0.6       ,  1.339448  ,  0.0046    ,  0.0126    ]])"
     },
     "execution_count": 102,
     "metadata": {},
     "output_type": "execute_result"
    }
   ],
   "source": [
    "handled_data = np.array([[0.0, 0.0, 0.0, 0.0]])\n",
    "\n",
    "for index, t in np.ndenumerate(t_array[0:]):\n",
    "    N = N_array[index]\n",
    "    dL = dL_array[index]\n",
    "    dD = dD_array[index]\n",
    "\n",
    "    new_row = [t, sigma_N(N, A_0), epsilon_y(dD, D_0), epsilon_x(dL, L_0)]\n",
    "    handled_data = np.r_[handled_data, [new_row]]\n",
    "\n",
    "handled_data"
   ],
   "metadata": {
    "collapsed": false,
    "pycharm": {
     "name": "#%%\n"
    }
   }
  }
 ],
 "metadata": {
  "kernelspec": {
   "display_name": "Python 3",
   "language": "python",
   "name": "python3"
  },
  "language_info": {
   "codemirror_mode": {
    "name": "ipython",
    "version": 2
   },
   "file_extension": ".py",
   "mimetype": "text/x-python",
   "name": "python",
   "nbconvert_exporter": "python",
   "pygments_lexer": "ipython2",
   "version": "2.7.6"
  }
 },
 "nbformat": 4,
 "nbformat_minor": 0
}