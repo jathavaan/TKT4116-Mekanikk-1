{
 "cells": [
  {
   "cell_type": "markdown",
   "source": [],
   "metadata": {
    "collapsed": false
   }
  },
  {
   "cell_type": "code",
   "execution_count": 35,
   "metadata": {
    "collapsed": true,
    "pycharm": {
     "name": "#%%\n"
    }
   },
   "outputs": [],
   "source": [
    "# Gjør nødvendige imports\n",
    "import numpy as np"
   ]
  },
  {
   "cell_type": "code",
   "execution_count": 36,
   "outputs": [],
   "source": [
    "# Når punkt B har forflyttet seg 25 mm, har punkt C forflyttet seg 50 mm\n",
    "# => Fjær B vil ikke gjøre noe før punkt C har forflyttet seg 50 mm\n",
    "\n",
    "# Definerer nødvendige verdier\n",
    "L = 1000  # mm\n",
    "k_C = 40  # N/mm\n",
    "k_B = 120  # N/mm\n",
    "\n",
    "dB_0 = 25  # mm\n",
    "dC_0 = 50  # mm"
   ],
   "metadata": {
    "collapsed": false,
    "pycharm": {
     "name": "#%%\n"
    }
   }
  },
  {
   "cell_type": "code",
   "execution_count": 37,
   "outputs": [],
   "source": [
    "# Lager en funksjon som regner ut kraften som trengs for å presse ned fjæren\n",
    "def P(y_list):\n",
    "    global k_B\n",
    "    global k_C\n",
    "    global L\n",
    "    global dB_0\n",
    "    global dC_0\n",
    "\n",
    "    P_list = []\n",
    "\n",
    "    for y in y_list:\n",
    "        if y > dC_0:\n",
    "            # Hvis fjær B og C er i bruk\n",
    "            P_list.append(k_B * y / 2 + k_C * y)\n",
    "        else:\n",
    "            # Hvis kun fjær C er i bruk\n",
    "            P_list.append(k_C * y)\n",
    "\n",
    "    return P_list"
   ],
   "metadata": {
    "collapsed": false,
    "pycharm": {
     "name": "#%%\n"
    }
   }
  },
  {
   "cell_type": "code",
   "execution_count": 38,
   "outputs": [
    {
     "data": {
      "text/plain": "[0.0,\n 67.79661016949152,\n 135.59322033898303,\n 203.38983050847457,\n 271.18644067796606,\n 338.98305084745755,\n 406.77966101694915,\n 474.5762711864407,\n 542.3728813559321,\n 610.1694915254236,\n 677.9661016949151,\n 745.7627118644068,\n 813.5593220338983,\n 881.3559322033898,\n 949.1525423728814,\n 1016.9491525423729,\n 1084.7457627118642,\n 1152.5423728813557,\n 1220.3389830508472,\n 1288.1355932203387,\n 1355.9322033898302,\n 1423.7288135593221,\n 1491.5254237288136,\n 1559.322033898305,\n 1627.1186440677966,\n 1694.915254237288,\n 1762.7118644067796,\n 1830.508474576271,\n 1898.3050847457628,\n 1966.1016949152543,\n 5084.745762711865,\n 5254.237288135593,\n 5423.728813559322,\n 5593.22033898305,\n 5762.71186440678,\n 5932.203389830508,\n 6101.694915254237,\n 6271.186440677966,\n 6440.6779661016935,\n 6610.169491525423,\n 6779.661016949151,\n 6949.152542372882,\n 7118.64406779661,\n 7288.135593220339,\n 7457.627118644068,\n 7627.1186440677975,\n 7796.610169491525,\n 7966.1016949152545,\n 8135.593220338983,\n 8305.084745762711,\n 8474.57627118644,\n 8644.067796610168,\n 8813.559322033898,\n 8983.050847457627,\n 9152.542372881355,\n 9322.033898305084,\n 9491.525423728814,\n 9661.016949152541,\n 9830.50847457627,\n 10000.0]"
     },
     "execution_count": 38,
     "metadata": {},
     "output_type": "execute_result"
    }
   ],
   "source": [
    "y_val = np.linspace(0, 100, 60)\n",
    "P(y_val)"
   ],
   "metadata": {
    "collapsed": false,
    "pycharm": {
     "name": "#%%\n"
    }
   }
  },
  {
   "cell_type": "code",
   "execution_count": null,
   "outputs": [],
   "source": [],
   "metadata": {
    "collapsed": false,
    "pycharm": {
     "name": "#%%\n"
    }
   }
  }
 ],
 "metadata": {
  "kernelspec": {
   "display_name": "Python 3",
   "language": "python",
   "name": "python3"
  },
  "language_info": {
   "codemirror_mode": {
    "name": "ipython",
    "version": 2
   },
   "file_extension": ".py",
   "mimetype": "text/x-python",
   "name": "python",
   "nbconvert_exporter": "python",
   "pygments_lexer": "ipython2",
   "version": "2.7.6"
  }
 },
 "nbformat": 4,
 "nbformat_minor": 0
}